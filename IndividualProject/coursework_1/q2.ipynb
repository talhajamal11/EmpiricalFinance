{
 "cells": [
  {
   "cell_type": "markdown",
   "metadata": {},
   "source": [
    "# Importing Data"
   ]
  },
  {
   "cell_type": "code",
   "execution_count": 1,
   "metadata": {},
   "outputs": [],
   "source": [
    "import pandas as pd\n",
    "import numpy as np \n",
    "import matplotlib.pyplot as plt \n",
    "import scipy \n",
    "import statsmodels.api as sm \n",
    "from statsmodels.graphics.tsaplots import plot_acf\n",
    "from statsmodels.graphics.tsaplots import plot_pacf\n",
    "from statsmodels.tsa.arima.model import ARIMA\n",
    "from statsmodels.tsa.stattools import adfuller\n",
    "from sklearn.linear_model import LinearRegression\n",
    "from sklearn.metrics import mean_squared_error\n",
    "from datetime import datetime as dt\n",
    "import yfinance as yf"
   ]
  },
  {
   "cell_type": "code",
   "execution_count": 2,
   "metadata": {},
   "outputs": [],
   "source": [
    "us_data_path = '/Users/talhajamal/Documents/Documents/Imperial/Courses/Semester 2/Empirical Finance/IndividualProject/coursework_1/Data_coursework_1.xlsx'\n",
    "us_data = pd.read_excel(us_data_path, sheet_name='US')\n",
    "us_data['Date'] = pd.to_datetime(us_data['Date'], dayfirst=True)\n",
    "#start_date = dt(1984, 1, 1)\n",
    "#us_data = us_data[us_data['Date'] > start_date] # Last 40 years of data"
   ]
  },
  {
   "cell_type": "code",
   "execution_count": 3,
   "metadata": {},
   "outputs": [
    {
     "data": {
      "text/html": [
       "<div>\n",
       "<style scoped>\n",
       "    .dataframe tbody tr th:only-of-type {\n",
       "        vertical-align: middle;\n",
       "    }\n",
       "\n",
       "    .dataframe tbody tr th {\n",
       "        vertical-align: top;\n",
       "    }\n",
       "\n",
       "    .dataframe thead th {\n",
       "        text-align: right;\n",
       "    }\n",
       "</style>\n",
       "<table border=\"1\" class=\"dataframe\">\n",
       "  <thead>\n",
       "    <tr style=\"text-align: right;\">\n",
       "      <th></th>\n",
       "      <th>Date</th>\n",
       "      <th>Stock Index</th>\n",
       "      <th>Short-term Yield</th>\n",
       "      <th>Long-term Yield</th>\n",
       "      <th>Simple Returns</th>\n",
       "      <th>Log Returns</th>\n",
       "      <th>ST Returns</th>\n",
       "      <th>LT Returns</th>\n",
       "      <th>xt_1</th>\n",
       "    </tr>\n",
       "  </thead>\n",
       "  <tbody>\n",
       "    <tr>\n",
       "      <th>0</th>\n",
       "      <td>1792-02-29</td>\n",
       "      <td>2.496140</td>\n",
       "      <td>4.198</td>\n",
       "      <td>4.198</td>\n",
       "      <td>0.062644</td>\n",
       "      <td>0.060760</td>\n",
       "      <td>0.061173</td>\n",
       "      <td>0.061173</td>\n",
       "      <td>0.0</td>\n",
       "    </tr>\n",
       "    <tr>\n",
       "      <th>1</th>\n",
       "      <td>1792-03-31</td>\n",
       "      <td>2.297596</td>\n",
       "      <td>4.940</td>\n",
       "      <td>4.940</td>\n",
       "      <td>-0.079541</td>\n",
       "      <td>-0.082882</td>\n",
       "      <td>0.176751</td>\n",
       "      <td>0.176751</td>\n",
       "      <td>0.0</td>\n",
       "    </tr>\n",
       "    <tr>\n",
       "      <th>2</th>\n",
       "      <td>1792-04-30</td>\n",
       "      <td>2.350072</td>\n",
       "      <td>5.143</td>\n",
       "      <td>5.143</td>\n",
       "      <td>0.022840</td>\n",
       "      <td>0.022583</td>\n",
       "      <td>0.041093</td>\n",
       "      <td>0.041093</td>\n",
       "      <td>0.0</td>\n",
       "    </tr>\n",
       "    <tr>\n",
       "      <th>3</th>\n",
       "      <td>1792-05-31</td>\n",
       "      <td>2.562141</td>\n",
       "      <td>4.557</td>\n",
       "      <td>4.557</td>\n",
       "      <td>0.090239</td>\n",
       "      <td>0.086397</td>\n",
       "      <td>-0.113941</td>\n",
       "      <td>-0.113941</td>\n",
       "      <td>0.0</td>\n",
       "    </tr>\n",
       "    <tr>\n",
       "      <th>4</th>\n",
       "      <td>1792-06-30</td>\n",
       "      <td>2.512370</td>\n",
       "      <td>4.675</td>\n",
       "      <td>4.675</td>\n",
       "      <td>-0.019426</td>\n",
       "      <td>-0.019617</td>\n",
       "      <td>0.025894</td>\n",
       "      <td>0.025894</td>\n",
       "      <td>0.0</td>\n",
       "    </tr>\n",
       "  </tbody>\n",
       "</table>\n",
       "</div>"
      ],
      "text/plain": [
       "        Date  Stock Index  Short-term Yield  Long-term Yield  Simple Returns  \\\n",
       "0 1792-02-29     2.496140             4.198            4.198        0.062644   \n",
       "1 1792-03-31     2.297596             4.940            4.940       -0.079541   \n",
       "2 1792-04-30     2.350072             5.143            5.143        0.022840   \n",
       "3 1792-05-31     2.562141             4.557            4.557        0.090239   \n",
       "4 1792-06-30     2.512370             4.675            4.675       -0.019426   \n",
       "\n",
       "   Log Returns  ST Returns  LT Returns  xt_1  \n",
       "0     0.060760    0.061173    0.061173   0.0  \n",
       "1    -0.082882    0.176751    0.176751   0.0  \n",
       "2     0.022583    0.041093    0.041093   0.0  \n",
       "3     0.086397   -0.113941   -0.113941   0.0  \n",
       "4    -0.019617    0.025894    0.025894   0.0  "
      ]
     },
     "execution_count": 3,
     "metadata": {},
     "output_type": "execute_result"
    }
   ],
   "source": [
    "# Summary Statistics for US Data\n",
    "us_data[\"Simple Returns\"] = us_data['Stock Index'].pct_change()\n",
    "us_data[\"Log Returns\"] = np.log(us_data['Stock Index'] / us_data['Stock Index'].shift(1))\n",
    "us_data[\"ST Returns\"] = us_data['Short-term Yield'].pct_change()\n",
    "us_data[\"LT Returns\"] = us_data['Long-term Yield'].pct_change()\n",
    "us_data['xt_1'] = us_data['Long-term Yield'].shift(1) - us_data['Short-term Yield'].shift(1)\n",
    "us_data.dropna(inplace=True)\n",
    "us_data.reset_index(drop = True, inplace=True)\n",
    "us_data.head()"
   ]
  },
  {
   "cell_type": "markdown",
   "metadata": {},
   "source": [
    "# Expanding Window Regression"
   ]
  },
  {
   "cell_type": "code",
   "execution_count": 5,
   "metadata": {},
   "outputs": [
    {
     "name": "stdout",
     "output_type": "stream",
     "text": [
      "0.001945448402323024 0.0019370741194388087\n",
      "The out of sample R squared is:  -0.004323160791927627\n",
      "The Delta RMSE is:  -9.503331749566996e-05\n"
     ]
    }
   ],
   "source": [
    "# Expanding Window Regression\n",
    "expanding_model_prediction = []\n",
    "expanding_benchmark_prediction = []\n",
    "expanding_actual = []\n",
    "\n",
    "for i in range(120, len(us_data) - 1, 1): #2784\n",
    "    #setup data\n",
    "    x_train = us_data[['xt_1']][:i]\n",
    "    y_train = us_data[['Log Returns']][:i]\n",
    "    # Run Regression\n",
    "    expanding_model = LinearRegression()\n",
    "    expanding_model.fit(x_train, y_train)\n",
    "    # Test and Prediction\n",
    "    x_test = us_data[['xt_1']][i:i+1]\n",
    "    y_pred = expanding_model.predict(x_test)[0][0]\n",
    "    actual = us_data['Log Returns'].iloc[i]\n",
    "    benchmark_prediction = np.mean(y_train)\n",
    "    # Appending to lists\n",
    "    expanding_model_prediction.append(y_pred)\n",
    "    expanding_actual.append(actual)\n",
    "    expanding_benchmark_prediction.append(benchmark_prediction)\n",
    "\n",
    "expanding_mse_model = mean_squared_error(expanding_actual, expanding_model_prediction)\n",
    "expanding_mse_benchmark = mean_squared_error(expanding_actual, expanding_benchmark_prediction)\n",
    "\n",
    "print(expanding_mse_model, expanding_mse_benchmark)\n",
    "print(\"The out of sample R squared is: \", 1 - (expanding_mse_model/expanding_mse_benchmark))\n",
    "\n",
    "delta_rmse = np.sqrt(expanding_mse_benchmark) - np.sqrt(expanding_mse_model)\n",
    "print(\"The Delta RMSE is: \", delta_rmse)"
   ]
  },
  {
   "cell_type": "markdown",
   "metadata": {},
   "source": [
    "This Implies that the Model is NOT better than the Benchmark."
   ]
  },
  {
   "cell_type": "markdown",
   "metadata": {},
   "source": [
    "# Rolling Window Regression"
   ]
  },
  {
   "cell_type": "code",
   "execution_count": 6,
   "metadata": {},
   "outputs": [
    {
     "name": "stdout",
     "output_type": "stream",
     "text": [
      "0.0020666039279573947 0.0019483483741248551\n",
      "The out of sample R squared is:  -0.0606952819131521\n",
      "The Delta RMSE is:  -0.0013198162279665707\n"
     ]
    }
   ],
   "source": [
    "# Expanding Window Regression\n",
    "rolling_model_prediction = []\n",
    "rolling_benchmark_prediction = []\n",
    "rolling_actual = []\n",
    "\n",
    "for i in range(120, len(us_data) - 1, 1): #2784\n",
    "    #setup data\n",
    "    start = i - 120\n",
    "    x_train = us_data[['xt_1']][start:i]\n",
    "    y_train = us_data[['Log Returns']][start:i]\n",
    "    # Run Regression\n",
    "    rolling_model = LinearRegression()\n",
    "    rolling_model.fit(x_train, y_train)\n",
    "    # Test and Prediction\n",
    "    x_test = us_data[['xt_1']][i:i+1]\n",
    "    y_pred = rolling_model.predict(x_test)[0][0]\n",
    "    actual = us_data['Log Returns'].iloc[i]\n",
    "    benchmark_prediction = np.mean(y_train)\n",
    "    # Appending to lists\n",
    "    rolling_model_prediction.append(y_pred)\n",
    "    rolling_actual.append(actual)\n",
    "    rolling_benchmark_prediction.append(benchmark_prediction)\n",
    "\n",
    "rolling_mse_model = mean_squared_error(rolling_actual, rolling_model_prediction)\n",
    "rolling_mse_benchmark = mean_squared_error(rolling_actual, rolling_benchmark_prediction)\n",
    "\n",
    "print(rolling_mse_model, rolling_mse_benchmark)\n",
    "print(\"The out of sample R squared is: \", 1 - (rolling_mse_model/rolling_mse_benchmark))\n",
    "\n",
    "delta_rmse = np.sqrt(rolling_mse_benchmark) - np.sqrt(rolling_mse_model)\n",
    "print(\"The Delta RMSE is: \", delta_rmse)"
   ]
  },
  {
   "cell_type": "markdown",
   "metadata": {},
   "source": [
    "This implies that the Rolling Window Regression Model also does not outperform the Benchmark Model. "
   ]
  },
  {
   "cell_type": "markdown",
   "metadata": {},
   "source": [
    "# Expanding Model Clark and West Test"
   ]
  },
  {
   "cell_type": "code",
   "execution_count": 10,
   "metadata": {},
   "outputs": [
    {
     "name": "stdout",
     "output_type": "stream",
     "text": [
      "Estimated rho_hat: -5.087598333120338e-06\n",
      "The CW Stat is:  -0.7830584157388782\n",
      "The P Value is: 0.7832035953701767\n"
     ]
    }
   ],
   "source": [
    "# Clark and West Test\n",
    "f_i = []\n",
    "for i in range(len(expanding_actual)):\n",
    "    y_actual = expanding_actual[i]\n",
    "    y_benchmark_pred = expanding_benchmark_prediction[i]\n",
    "    y_competing_pred = expanding_model_prediction[i]\n",
    "\n",
    "    # Clark and West test correction term\n",
    "    correction_term = (y_actual - y_competing_pred)**2 - (y_benchmark_pred - y_competing_pred)**2\n",
    "    f_i.append((y_actual - y_benchmark_pred)**2 - correction_term)\n",
    "\n",
    "Y = np.array(f_i)\n",
    "X = sm.add_constant(np.ones(len(Y)))\n",
    "# Fit the regression model\n",
    "model = sm.OLS(Y, X).fit()\n",
    "# Print the estimated constant term (intercept)\n",
    "print(f\"Estimated rho_hat: {model.params[0]}\")\n",
    "\n",
    "rho_hat = model.params[0]\n",
    "se_rho_hat = model.bse[0]\n",
    "CW = rho_hat / se_rho_hat\n",
    "print(\"The CW Stat is: \", CW)    \n",
    "p_value = scipy.stats.norm.sf(CW)\n",
    "print(\"The P Value is:\", p_value)"
   ]
  },
  {
   "cell_type": "markdown",
   "metadata": {},
   "source": [
    "Cannot reject the Null Hypothesis that MSE benchmark = MSE model"
   ]
  },
  {
   "cell_type": "markdown",
   "metadata": {},
   "source": [
    "# Rolling Model Clark and West Test"
   ]
  },
  {
   "cell_type": "code",
   "execution_count": 11,
   "metadata": {},
   "outputs": [
    {
     "name": "stdout",
     "output_type": "stream",
     "text": [
      "Estimated p (intercept): -3.304335868527804e-06\n",
      "The CW Stat is:  -0.11451173595005465\n",
      "The P Value is: 0.545583928173363\n"
     ]
    }
   ],
   "source": [
    "# Clark and West Test\n",
    "f_i = []\n",
    "for i in range(len(rolling_actual)):\n",
    "    y_actual = rolling_actual[i]\n",
    "    y_benchmark_pred = rolling_benchmark_prediction[i]\n",
    "    y_competing_pred = rolling_model_prediction[i]\n",
    "\n",
    "    # Clark and West test correction term\n",
    "    correction_term = (y_actual - y_competing_pred)**2 - (y_benchmark_pred - y_competing_pred)**2\n",
    "    f_i.append((y_actual - y_benchmark_pred)**2 - correction_term)\n",
    "\n",
    "Y = np.array(f_i)\n",
    "X = sm.add_constant(np.ones(len(Y)))\n",
    "# Fit the regression model\n",
    "model = sm.OLS(Y, X).fit()\n",
    "# Print the estimated constant term (intercept)\n",
    "print(f\"Estimated p (intercept): {model.params[0]}\")\n",
    "\n",
    "rho_hat = model.params[0]\n",
    "se_rho_hat = model.bse[0]\n",
    "CW = rho_hat / se_rho_hat\n",
    "print(\"The CW Stat is: \", CW)    \n",
    "p_value = scipy.stats.norm.sf(CW)\n",
    "print(\"The P Value is:\", p_value)"
   ]
  },
  {
   "cell_type": "markdown",
   "metadata": {},
   "source": [
    "Cannot reject the Null Hypothesis that MSE benchmark is = MSE model."
   ]
  },
  {
   "cell_type": "markdown",
   "metadata": {},
   "source": [
    "# Expanding Model Market Timing Ability"
   ]
  },
  {
   "cell_type": "code",
   "execution_count": 153,
   "metadata": {},
   "outputs": [
    {
     "name": "stdout",
     "output_type": "stream",
     "text": [
      "P: 0.5155839279008637\n",
      "Z Score: 1.609176035148589\n"
     ]
    }
   ],
   "source": [
    "# Expanding Regression Timing Ability\n",
    "expanding_df = pd.DataFrame(\n",
    "    {\n",
    "        'actual return':expanding_actual,\n",
    "        'forecast return':expanding_model_prediction\n",
    "    }\n",
    ")\n",
    "expanding_df['market direction'] = expanding_df['actual return'].apply(lambda x: 1 if x > 0 else 0)\n",
    "expanding_df['forecast direction'] = expanding_df['forecast return'].apply(lambda x: 1 if x > 0 else 0)\n",
    "expanding_df['correct forecast'] = expanding_df['market direction'] == expanding_df['forecast direction']\n",
    "c = expanding_df['correct forecast'].sum()\n",
    "n = len(expanding_df)\n",
    "p = c/n\n",
    "print(\"P:\", p)\n",
    "z_score = (p - 0.5) / np.sqrt(p * (1 - p) / n)\n",
    "print(\"Z Score:\", z_score)"
   ]
  },
  {
   "cell_type": "markdown",
   "metadata": {},
   "source": [
    "Z Score < 1.65 hence cannot reject the Null Hypothesis. No Market Timing Ability. "
   ]
  },
  {
   "cell_type": "markdown",
   "metadata": {},
   "source": [
    "# Rolling Model Market Timing Ability"
   ]
  },
  {
   "cell_type": "code",
   "execution_count": 154,
   "metadata": {},
   "outputs": [
    {
     "name": "stdout",
     "output_type": "stream",
     "text": [
      "P: 0.5336087119789711\n",
      "Z Score: 3.476568426313029\n"
     ]
    }
   ],
   "source": [
    "# rolling\n",
    "rolling_df = pd.DataFrame(\n",
    "    {\n",
    "        'actual return':rolling_actual,\n",
    "        'forecast return':rolling_model_prediction\n",
    "    }\n",
    ")\n",
    "rolling_df['market direction'] = rolling_df['actual return'].apply(lambda x: 1 if x > 0 else 0)\n",
    "rolling_df['forecast direction'] = rolling_df['forecast return'].apply(lambda x: 1 if x > 0 else 0)\n",
    "rolling_df['correct forecast'] = rolling_df['market direction'] == rolling_df['forecast direction']\n",
    "c = rolling_df['correct forecast'].sum()\n",
    "n = len(rolling_df)\n",
    "p = c/n\n",
    "print(\"P:\", p)\n",
    "z_score = (p - 0.5) / np.sqrt(p * (1 - p) / n)\n",
    "print(\"Z Score:\", z_score)"
   ]
  },
  {
   "cell_type": "markdown",
   "metadata": {},
   "source": [
    "Z Score > 1.65. Hence we reject the Null Hypothesis. The model does have predictive ability. "
   ]
  }
 ],
 "metadata": {
  "kernelspec": {
   "display_name": "Python 3",
   "language": "python",
   "name": "python3"
  },
  "language_info": {
   "codemirror_mode": {
    "name": "ipython",
    "version": 3
   },
   "file_extension": ".py",
   "mimetype": "text/x-python",
   "name": "python",
   "nbconvert_exporter": "python",
   "pygments_lexer": "ipython3",
   "version": "3.11.3"
  }
 },
 "nbformat": 4,
 "nbformat_minor": 2
}
