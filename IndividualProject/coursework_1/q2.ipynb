{
 "cells": [
  {
   "cell_type": "markdown",
   "metadata": {},
   "source": [
    "# Importing Data"
   ]
  },
  {
   "cell_type": "code",
   "execution_count": 153,
   "metadata": {},
   "outputs": [],
   "source": [
    "import pandas as pd\n",
    "import numpy as np \n",
    "import matplotlib.pyplot as plt \n",
    "import scipy \n",
    "import statsmodels.api as sm \n",
    "from statsmodels.graphics.tsaplots import plot_acf\n",
    "from statsmodels.graphics.tsaplots import plot_pacf\n",
    "from statsmodels.tsa.arima.model import ARIMA\n",
    "from statsmodels.tsa.stattools import adfuller\n",
    "from sklearn.linear_model import LinearRegression\n",
    "from sklearn.metrics import mean_squared_error\n",
    "from datetime import datetime as dt\n",
    "import yfinance as yf"
   ]
  },
  {
   "cell_type": "code",
   "execution_count": 154,
   "metadata": {},
   "outputs": [],
   "source": [
    "us_data_path = '/Users/talhajamal/Documents/Documents/Imperial/Courses/Semester 2/Empirical Finance/IndividualProject/coursework_1/Data_coursework_1.xlsx'\n",
    "us_data = pd.read_excel(us_data_path, sheet_name='US')\n",
    "us_data['Date'] = pd.to_datetime(us_data['Date'], dayfirst=True)\n",
    "#start_date = dt(1984, 1, 1)\n",
    "#us_data = us_data[us_data['Date'] > start_date] # Last 40 years of data"
   ]
  },
  {
   "cell_type": "code",
   "execution_count": 155,
   "metadata": {},
   "outputs": [
    {
     "data": {
      "text/html": [
       "<div>\n",
       "<style scoped>\n",
       "    .dataframe tbody tr th:only-of-type {\n",
       "        vertical-align: middle;\n",
       "    }\n",
       "\n",
       "    .dataframe tbody tr th {\n",
       "        vertical-align: top;\n",
       "    }\n",
       "\n",
       "    .dataframe thead th {\n",
       "        text-align: right;\n",
       "    }\n",
       "</style>\n",
       "<table border=\"1\" class=\"dataframe\">\n",
       "  <thead>\n",
       "    <tr style=\"text-align: right;\">\n",
       "      <th></th>\n",
       "      <th>Date</th>\n",
       "      <th>Stock Index</th>\n",
       "      <th>Short-term Yield</th>\n",
       "      <th>Long-term Yield</th>\n",
       "      <th>Simple Returns</th>\n",
       "      <th>Log Returns</th>\n",
       "      <th>ST Returns</th>\n",
       "      <th>LT Returns</th>\n",
       "      <th>xt_1</th>\n",
       "    </tr>\n",
       "  </thead>\n",
       "  <tbody>\n",
       "    <tr>\n",
       "      <th>0</th>\n",
       "      <td>1792-02-29</td>\n",
       "      <td>2.496140</td>\n",
       "      <td>4.198</td>\n",
       "      <td>4.198</td>\n",
       "      <td>0.062644</td>\n",
       "      <td>0.060760</td>\n",
       "      <td>0.061173</td>\n",
       "      <td>0.061173</td>\n",
       "      <td>0.0</td>\n",
       "    </tr>\n",
       "    <tr>\n",
       "      <th>1</th>\n",
       "      <td>1792-03-31</td>\n",
       "      <td>2.297596</td>\n",
       "      <td>4.940</td>\n",
       "      <td>4.940</td>\n",
       "      <td>-0.079541</td>\n",
       "      <td>-0.082882</td>\n",
       "      <td>0.176751</td>\n",
       "      <td>0.176751</td>\n",
       "      <td>0.0</td>\n",
       "    </tr>\n",
       "    <tr>\n",
       "      <th>2</th>\n",
       "      <td>1792-04-30</td>\n",
       "      <td>2.350072</td>\n",
       "      <td>5.143</td>\n",
       "      <td>5.143</td>\n",
       "      <td>0.022840</td>\n",
       "      <td>0.022583</td>\n",
       "      <td>0.041093</td>\n",
       "      <td>0.041093</td>\n",
       "      <td>0.0</td>\n",
       "    </tr>\n",
       "    <tr>\n",
       "      <th>3</th>\n",
       "      <td>1792-05-31</td>\n",
       "      <td>2.562141</td>\n",
       "      <td>4.557</td>\n",
       "      <td>4.557</td>\n",
       "      <td>0.090239</td>\n",
       "      <td>0.086397</td>\n",
       "      <td>-0.113941</td>\n",
       "      <td>-0.113941</td>\n",
       "      <td>0.0</td>\n",
       "    </tr>\n",
       "    <tr>\n",
       "      <th>4</th>\n",
       "      <td>1792-06-30</td>\n",
       "      <td>2.512370</td>\n",
       "      <td>4.675</td>\n",
       "      <td>4.675</td>\n",
       "      <td>-0.019426</td>\n",
       "      <td>-0.019617</td>\n",
       "      <td>0.025894</td>\n",
       "      <td>0.025894</td>\n",
       "      <td>0.0</td>\n",
       "    </tr>\n",
       "  </tbody>\n",
       "</table>\n",
       "</div>"
      ],
      "text/plain": [
       "        Date  Stock Index  Short-term Yield  Long-term Yield  Simple Returns  \\\n",
       "0 1792-02-29     2.496140             4.198            4.198        0.062644   \n",
       "1 1792-03-31     2.297596             4.940            4.940       -0.079541   \n",
       "2 1792-04-30     2.350072             5.143            5.143        0.022840   \n",
       "3 1792-05-31     2.562141             4.557            4.557        0.090239   \n",
       "4 1792-06-30     2.512370             4.675            4.675       -0.019426   \n",
       "\n",
       "   Log Returns  ST Returns  LT Returns  xt_1  \n",
       "0     0.060760    0.061173    0.061173   0.0  \n",
       "1    -0.082882    0.176751    0.176751   0.0  \n",
       "2     0.022583    0.041093    0.041093   0.0  \n",
       "3     0.086397   -0.113941   -0.113941   0.0  \n",
       "4    -0.019617    0.025894    0.025894   0.0  "
      ]
     },
     "execution_count": 155,
     "metadata": {},
     "output_type": "execute_result"
    }
   ],
   "source": [
    "# Summary Statistics for US Data\n",
    "us_data[\"Simple Returns\"] = us_data['Stock Index'].pct_change()\n",
    "us_data[\"Log Returns\"] = np.log(us_data['Stock Index'] / us_data['Stock Index'].shift(1))\n",
    "us_data[\"ST Returns\"] = us_data['Short-term Yield'].pct_change()\n",
    "us_data[\"LT Returns\"] = us_data['Long-term Yield'].pct_change()\n",
    "us_data['xt_1'] = us_data['Long-term Yield'].shift(1) - us_data['Short-term Yield'].shift(1)\n",
    "us_data.dropna(inplace=True)\n",
    "us_data.reset_index(drop = True, inplace=True)\n",
    "us_data.head()"
   ]
  },
  {
   "cell_type": "markdown",
   "metadata": {},
   "source": [
    "# Expanding Window Regression"
   ]
  },
  {
   "cell_type": "code",
   "execution_count": 156,
   "metadata": {},
   "outputs": [],
   "source": [
    "# Expanding Window Regression\n",
    "exp_forecast_err = []\n",
    "exp_prediction = []\n",
    "exp_benchmark_pred = []\n",
    "exp_actual = []\n",
    "\n",
    "for end in range(120, len(us_data) - 1, 1): #2784\n",
    "\n",
    "    xt_1 = us_data[['xt_1']][:end]\n",
    "    yt = us_data[['Log Returns']][:end]\n",
    "    \n",
    "    exp_model = LinearRegression()\n",
    "    exp_model.fit(xt_1, yt)\n",
    "    \n",
    "    xt_test = us_data[['xt_1']][end:end+1]\n",
    "    \n",
    "    prediction = exp_model.predict(xt_test)[0][0]\n",
    "    exp_prediction.append(prediction)\n",
    "    \n",
    "    actual = us_data['Log Returns'].iloc[end]\n",
    "    exp_actual.append(actual)\n",
    "    \n",
    "    error = abs(prediction - actual)\n",
    "\n",
    "    exp_forecast_err.append(error)\n",
    "\n",
    "    exp_bench_pred = prediction - (exp_model.coef_[0][0] * xt_test.iloc[-1][0])\n",
    "    exp_benchmark_pred.append(exp_bench_pred)\n",
    "\n",
    "mse_model = mean_squared_error(exp_actual, exp_prediction)\n",
    "mse_benchmark = mean_squared_error(exp_actual, exp_benchmark_pred)"
   ]
  },
  {
   "cell_type": "code",
   "execution_count": 157,
   "metadata": {},
   "outputs": [
    {
     "name": "stdout",
     "output_type": "stream",
     "text": [
      "0.001945448402323024 0.001939223704135139\n",
      "The out of sample R squared is:  -0.0032098917595797527\n"
     ]
    }
   ],
   "source": [
    "print(mse_model, mse_benchmark)\n",
    "print(\"The out of sample R squared is: \", 1 - (mse_model/mse_benchmark))\n"
   ]
  },
  {
   "cell_type": "code",
   "execution_count": 158,
   "metadata": {},
   "outputs": [
    {
     "data": {
      "text/plain": [
       "<matplotlib.legend.Legend at 0x29cc2b410>"
      ]
     },
     "execution_count": 158,
     "metadata": {},
     "output_type": "execute_result"
    },
    {
     "data": {
      "image/png": "[encoded data removed]",
      "text/plain": [
       "<Figure size 1000x400 with 1 Axes>"
      ]
     },
     "metadata": {},
     "output_type": "display_data"
    }
   ],
   "source": [
    "plt.figure(figsize=(10,4))\n",
    "plt.plot(us_data['Date'][121:], exp_prediction, label = 'Model Prediction')\n",
    "plt.plot(us_data['Date'][121:], exp_benchmark_pred, label = 'Benchmark Prediction')\n",
    "plt.legend()"
   ]
  },
  {
   "cell_type": "markdown",
   "metadata": {},
   "source": [
    "# Rolling Window Regression"
   ]
  },
  {
   "cell_type": "code",
   "execution_count": 159,
   "metadata": {},
   "outputs": [],
   "source": [
    "# Rolling Window Regression\n",
    "roll_prediction = []\n",
    "roll_benchmark_pred = []\n",
    "roll_actual = []\n",
    "\n",
    "for end in range(120, len(us_data) - 1, 1): #2784\n",
    "\n",
    "    start = end - 120\n",
    "\n",
    "    xt_1 = us_data[['xt_1']][start:end]\n",
    "    yt = us_data[['Log Returns']][start:end]\n",
    "    \n",
    "    roll_model = LinearRegression()\n",
    "    roll_model.fit(xt_1, yt)\n",
    "    \n",
    "    xt_test = us_data[['xt_1']][end:end+1]\n",
    "    \n",
    "    prediction = exp_model.predict(xt_test)[0][0]\n",
    "    roll_prediction.append(prediction)\n",
    "    \n",
    "    actual = us_data['Log Returns'].iloc[end+1]\n",
    "    roll_actual.append(actual)\n",
    "    \n",
    "\n",
    "    roll_bench_pred = prediction - (roll_model.coef_[0][0] * xt_test.iloc[-1][0])\n",
    "    roll_benchmark_pred.append(roll_bench_pred)\n",
    "\n",
    "roll_mse_model = mean_squared_error(roll_actual, roll_prediction)\n",
    "roll_mse_benchmark = mean_squared_error(roll_actual, roll_benchmark_pred)"
   ]
  },
  {
   "cell_type": "code",
   "execution_count": 160,
   "metadata": {},
   "outputs": [
    {
     "name": "stdout",
     "output_type": "stream",
     "text": [
      "0.0019334599308398676 0.0021074209810090215\n",
      "The out of sample R squared is:  0.08254689107530011\n"
     ]
    }
   ],
   "source": [
    "print(roll_mse_model, roll_mse_benchmark)\n",
    "print(\"The out of sample R squared is: \", 1 - (roll_mse_model/roll_mse_benchmark))"
   ]
  },
  {
   "cell_type": "markdown",
   "metadata": {},
   "source": [
    "# Clark and West Test"
   ]
  },
  {
   "cell_type": "code",
   "execution_count": null,
   "metadata": {},
   "outputs": [],
   "source": []
  }
 ],
 "metadata": {
  "kernelspec": {
   "display_name": "Python 3",
   "language": "python",
   "name": "python3"
  },
  "language_info": {
   "codemirror_mode": {
    "name": "ipython",
    "version": 3
   },
   "file_extension": ".py",
   "mimetype": "text/x-python",
   "name": "python",
   "nbconvert_exporter": "python",
   "pygments_lexer": "ipython3",
   "version": "3.11.3"
  }
 },
 "nbformat": 4,
 "nbformat_minor": 2
}
