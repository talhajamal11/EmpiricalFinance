{
 "cells": [
  {
   "cell_type": "markdown",
   "metadata": {},
   "source": [
    "# Import Modules"
   ]
  },
  {
   "cell_type": "code",
   "execution_count": 59,
   "metadata": {},
   "outputs": [],
   "source": [
    "import os\n",
    "import pandas as pd\n",
    "import numpy as np\n",
    "import matplotlib.pyplot as plt"
   ]
  },
  {
   "cell_type": "markdown",
   "metadata": {},
   "source": [
    "# Data Preprocessing"
   ]
  },
  {
   "cell_type": "code",
   "execution_count": 105,
   "metadata": {},
   "outputs": [],
   "source": [
    "def read_df(path, sheet):\n",
    "    df = pd.read_excel(io=path, sheet_name=sheet, header=1)\n",
    "    df.dropna(inplace=True)\n",
    "    df.reset_index(drop=True, inplace=True)\n",
    "    df.rename(columns={df.columns[0]: 'Date'}, inplace=True)\n",
    "    if len(str(df['Date'][0])) == 6:\n",
    "        df['Date'] = pd.to_datetime(df['Date'], format='%Y%m')\n",
    "    elif len(str(df['Date'][0])) == 4:\n",
    "        df['Date'] = pd.to_datetime(df['Date'], format='%Y')\n",
    "    return df\n",
    "\n",
    "home_dir = r\"/Users/talhajamal/Documents/Documents/Imperial/Courses/Semester 2/Empirical Finance/GroupCoursework/\"\n",
    "portfolio_path = home_dir+\"data/25_Portfolios_5x5.xls\"\n",
    "\n",
    "avgValueWeightedReturnsMonthly = read_df(portfolio_path, 'dataframe_1')\n",
    "avgEqualWeightedReturnsMonthly = read_df(portfolio_path, 'dataframe_2')\n",
    "avgValueWeightedReturnsAnnual = read_df(portfolio_path, 'dataframe_3')\n",
    "avgEqualWeightedReturnsAnnual = read_df(portfolio_path, 'dataframe_4')\n",
    "numFirmsPortfolios = read_df(portfolio_path, 'dataframe_5')\n",
    "avgMarketCap = read_df(portfolio_path, 'dataframe_6')"
   ]
  },
  {
   "cell_type": "code",
   "execution_count": null,
   "metadata": {},
   "outputs": [],
   "source": []
  }
 ],
 "metadata": {
  "kernelspec": {
   "display_name": "Python 3",
   "language": "python",
   "name": "python3"
  },
  "language_info": {
   "codemirror_mode": {
    "name": "ipython",
    "version": 3
   },
   "file_extension": ".py",
   "mimetype": "text/x-python",
   "name": "python",
   "nbconvert_exporter": "python",
   "pygments_lexer": "ipython3",
   "version": "3.11.3"
  }
 },
 "nbformat": 4,
 "nbformat_minor": 2
}
